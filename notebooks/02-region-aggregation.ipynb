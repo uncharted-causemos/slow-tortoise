{
 "cells": [
  {
   "cell_type": "code",
   "execution_count": 87,
   "id": "brazilian-chance",
   "metadata": {},
   "outputs": [
    {
     "name": "stderr",
     "output_type": "stream",
     "text": [
      "/Users/jryu/.pyenv/versions/3.8.2/lib/python3.8/site-packages/distributed/client.py:1136: VersionMismatchWarning: Mismatched versions found\n",
      "\n",
      "+-------------+-----------+-----------+-----------+\n",
      "| Package     | client    | scheduler | workers   |\n",
      "+-------------+-----------+-----------+-----------+\n",
      "| distributed | 2021.01.1 | 2021.02.0 | 2021.02.0 |\n",
      "| lz4         | 3.1.3     | 3.1.1     | 3.1.1     |\n",
      "| msgpack     | 1.0.2     | 1.0.0     | 1.0.0     |\n",
      "| numpy       | 1.20.1    | 1.19.4    | 1.19.4    |\n",
      "+-------------+-----------+-----------+-----------+\n",
      "Notes: \n",
      "-  msgpack: Variation is ok, as long as everything is above 0.6\n",
      "  warnings.warn(version_module.VersionMismatchWarning(msg[0][\"warning\"]))\n"
     ]
    }
   ],
   "source": [
    "from dask.distributed import Client\n",
    "\n",
    "client = Client('10.65.18.58:8786')"
   ]
  },
  {
   "cell_type": "code",
   "execution_count": 88,
   "id": "demonstrated-begin",
   "metadata": {},
   "outputs": [
    {
     "name": "stdout",
     "output_type": "stream",
     "text": [
      "<Client: 'tcp://172.18.0.6:8786' processes=3 threads=12, memory=49.97 GB>\n"
     ]
    },
    {
     "data": {
      "text/html": [
       "<table style=\"border: 2px solid white;\">\n",
       "<tr>\n",
       "<td style=\"vertical-align: top; border: 0px solid white\">\n",
       "<h3 style=\"text-align: left;\">Client</h3>\n",
       "<ul style=\"text-align: left; list-style: none; margin: 0; padding: 0;\">\n",
       "  <li><b>Scheduler: </b>tcp://10.65.18.58:8786</li>\n",
       "  <li><b>Dashboard: </b><a href='http://10.65.18.58:8787/status' target='_blank'>http://10.65.18.58:8787/status</a></li>\n",
       "</ul>\n",
       "</td>\n",
       "<td style=\"vertical-align: top; border: 0px solid white\">\n",
       "<h3 style=\"text-align: left;\">Cluster</h3>\n",
       "<ul style=\"text-align: left; list-style:none; margin: 0; padding: 0;\">\n",
       "  <li><b>Workers: </b>3</li>\n",
       "  <li><b>Cores: </b>12</li>\n",
       "  <li><b>Memory: </b>49.97 GB</li>\n",
       "</ul>\n",
       "</td>\n",
       "</tr>\n",
       "</table>"
      ],
      "text/plain": [
       "<Client: 'tcp://172.18.0.6:8786' processes=3 threads=12, memory=49.97 GB>"
      ]
     },
     "execution_count": 88,
     "metadata": {},
     "output_type": "execute_result"
    }
   ],
   "source": [
    "print(client)\n",
    "client"
   ]
  },
  {
   "cell_type": "code",
   "execution_count": 89,
   "id": "historical-peeing",
   "metadata": {},
   "outputs": [],
   "source": [
    "import dask.dataframe as dd\n",
    "import dask.bytes as db\n",
    "import datetime\n",
    "import pandas as pd\n",
    "import math\n",
    "import boto3\n",
    "import json"
   ]
  },
  {
   "cell_type": "code",
   "execution_count": 90,
   "id": "sharp-arbor",
   "metadata": {},
   "outputs": [],
   "source": [
    "import os\n",
    "import sys\n",
    "module_path = os.path.abspath(os.path.join('../flows'))\n",
    "if module_path not in sys.path:\n",
    "    sys.path.append(module_path)"
   ]
  },
  {
   "cell_type": "code",
   "execution_count": 91,
   "id": "integral-visitor",
   "metadata": {},
   "outputs": [],
   "source": [
    "import tiles_pb2\n",
    "from common import to_normalized_time, get_storage_option"
   ]
  },
  {
   "cell_type": "code",
   "execution_count": 92,
   "id": "african-ballot",
   "metadata": {},
   "outputs": [
    {
     "data": {
      "text/plain": [
       "{'tcp://10.0.33.32:45581': {'status': 'OK'},\n",
       " 'tcp://10.0.33.33:38867': {'status': 'OK'},\n",
       " 'tcp://10.0.33.5:41969': {'status': 'OK'}}"
      ]
     },
     "execution_count": 92,
     "metadata": {},
     "output_type": "execute_result"
    }
   ],
   "source": [
    "client.upload_file('../flows/tiles_pb2.py')\n",
    "client.upload_file('../flows/common.py')"
   ]
  },
  {
   "cell_type": "code",
   "execution_count": 93,
   "id": "affiliated-arthritis",
   "metadata": {},
   "outputs": [],
   "source": [
    "# Configs\n",
    "\n",
    "source = {\n",
    "    'endpoint_url': 'http://10.65.18.73:9000',\n",
    "    'region_name':'us-east-1',\n",
    "    'key': 'foobar',\n",
    "    'secret': 'foobarbaz',\n",
    "    'bucket': 'test'\n",
    "}\n",
    "\n",
    "dest = {\n",
    "    'endpoint_url': 'http://10.65.18.73:9000',\n",
    "    'region_name': 'us-east-1',\n",
    "    'key': 'foobar',\n",
    "    'secret': 'foobarbaz',\n",
    "    'bucket': 'mass-upload-test'\n",
    "}\n",
    "\n",
    "# This determines the number of bins(subtiles) per tile. Eg. Each tile has 4^6=4096 grid cells (subtiles) when LEVEL_DIFF is 6\n",
    "# Tile (z, x, y) will have a sutbile where its zoom level is z + LEVEL_DIFF\n",
    "# eg. Tile (9, 0, 0) will have (15, 0, 0) as a subtile with LEVEL_DIFF = 6\n",
    "LEVEL_DIFF = 6\n",
    "MIN_SUBTILE_PRECISION = LEVEL_DIFF # since (0,0,0) main tile wil have (LEVEL_DIFF, x, y) subtiles as its grid cells\n",
    "\n",
    "# Note: We need to figure out the spatial resolution of a run output in advance. For some model, 15 precision is way too high. \n",
    "# For example, lpjml model covers the entire world in very coarse resolution and with 15 precision, it takes 1 hour to process and upload\n",
    "# the tiles resulting 397395 tile files. (uploading takes most of the time ) \n",
    "# where it takes only a minitue with 10 precision. And having high precision tiles doesn't make \n",
    "# significant difference visually since underlying data itself is very coarse.\n",
    "MAX_SUBTILE_PRECISION = 14\n",
    "\n",
    "# Maximum zoom level for a main tile\n",
    "MAX_ZOOM = MAX_SUBTILE_PRECISION - LEVEL_DIFF\n",
    "\n",
    "# TODO: provide these as input parameters\n",
    "model_id = 'geo-test-data'\n",
    "run_id = 'test-run'\n",
    "s_bucket = source['bucket']\n",
    "parquet_path = f's3://{s_bucket}/geo-test-data.parquet'\n"
   ]
  },
  {
   "cell_type": "code",
   "execution_count": 94,
   "id": "pressed-billion",
   "metadata": {},
   "outputs": [
    {
     "data": {
      "text/plain": [
       "timestamp      int64\n",
       "country       object\n",
       "admin1        object\n",
       "admin2        object\n",
       "admin3        object\n",
       "lat          float64\n",
       "lng          float64\n",
       "feature       object\n",
       "value        float64\n",
       "dtype: object"
      ]
     },
     "execution_count": 94,
     "metadata": {},
     "output_type": "execute_result"
    }
   ],
   "source": [
    "# Read parquet files in as set of dataframes\n",
    "df = dd.read_parquet(parquet_path,\n",
    "    storage_options={\n",
    "        'anon': False,\n",
    "        'use_ssl': False,\n",
    "        'key': source['key'],\n",
    "        'secret': source['secret'],\n",
    "        'client_kwargs':{\n",
    "            'region_name': source['region_name'],\n",
    "            'endpoint_url': source['endpoint_url']\n",
    "        }\n",
    "    }).repartition(npartitions = 100)\n",
    "df.dtypes"
   ]
  },
  {
   "cell_type": "code",
   "execution_count": 95,
   "id": "sustainable-isolation",
   "metadata": {},
   "outputs": [],
   "source": [
    "# Temporal aggregation (compute for both sum and mean)\n",
    "time_res = 'month'\n",
    "\n",
    "columns = df.columns.tolist()\n",
    "columns.remove('value')\n",
    "\n",
    "t = dd.to_datetime(df['timestamp'], unit='s').apply(lambda x: to_normalized_time(x, time_res), meta=(None, 'int'))\n",
    "temporal_df = df.assign(timestamp=t) \\\n",
    "                .groupby(columns)['value'].agg(['sum', 'mean'])\n",
    "# Rename agg column names\n",
    "temporal_df.columns = temporal_df.columns.str.replace('sum', 't_sum').str.replace('mean', 't_mean')\n",
    "temporal_df = temporal_df.reset_index()"
   ]
  },
  {
   "cell_type": "code",
   "execution_count": 96,
   "id": "fixed-layer",
   "metadata": {},
   "outputs": [
    {
     "data": {
      "text/html": [
       "<div>\n",
       "<style scoped>\n",
       "    .dataframe tbody tr th:only-of-type {\n",
       "        vertical-align: middle;\n",
       "    }\n",
       "\n",
       "    .dataframe tbody tr th {\n",
       "        vertical-align: top;\n",
       "    }\n",
       "\n",
       "    .dataframe thead th {\n",
       "        text-align: right;\n",
       "    }\n",
       "</style>\n",
       "<table border=\"1\" class=\"dataframe\">\n",
       "  <thead>\n",
       "    <tr style=\"text-align: right;\">\n",
       "      <th></th>\n",
       "      <th>timestamp</th>\n",
       "      <th>country</th>\n",
       "      <th>admin1</th>\n",
       "      <th>admin2</th>\n",
       "      <th>admin3</th>\n",
       "      <th>lat</th>\n",
       "      <th>lng</th>\n",
       "      <th>feature</th>\n",
       "      <th>t_sum</th>\n",
       "      <th>t_mean</th>\n",
       "    </tr>\n",
       "  </thead>\n",
       "  <tbody>\n",
       "    <tr>\n",
       "      <th>35</th>\n",
       "      <td>1577836800</td>\n",
       "      <td>South Sudan</td>\n",
       "      <td>Upper Nile</td>\n",
       "      <td>Tonga</td>\n",
       "      <td>Malakal</td>\n",
       "      <td>9.550000</td>\n",
       "      <td>31.650000</td>\n",
       "      <td>feature2</td>\n",
       "      <td>20.0</td>\n",
       "      <td>20.0</td>\n",
       "    </tr>\n",
       "    <tr>\n",
       "      <th>36</th>\n",
       "      <td>1593561600</td>\n",
       "      <td>Ethiopia</td>\n",
       "      <td>Afar</td>\n",
       "      <td>Afar Zone 1</td>\n",
       "      <td>Dubti</td>\n",
       "      <td>11.733333</td>\n",
       "      <td>41.083333</td>\n",
       "      <td>feature2</td>\n",
       "      <td>300.0</td>\n",
       "      <td>300.0</td>\n",
       "    </tr>\n",
       "    <tr>\n",
       "      <th>37</th>\n",
       "      <td>1593561600</td>\n",
       "      <td>Ethiopia</td>\n",
       "      <td>Afar</td>\n",
       "      <td>Afar Zone 3</td>\n",
       "      <td>Gewane</td>\n",
       "      <td>10.159228</td>\n",
       "      <td>40.661596</td>\n",
       "      <td>feature2</td>\n",
       "      <td>30.0</td>\n",
       "      <td>30.0</td>\n",
       "    </tr>\n",
       "    <tr>\n",
       "      <th>38</th>\n",
       "      <td>1593561600</td>\n",
       "      <td>Ethiopia</td>\n",
       "      <td>Tigray</td>\n",
       "      <td>Debubawi</td>\n",
       "      <td>Enderta</td>\n",
       "      <td>13.500000</td>\n",
       "      <td>39.666667</td>\n",
       "      <td>feature2</td>\n",
       "      <td>700.0</td>\n",
       "      <td>700.0</td>\n",
       "    </tr>\n",
       "    <tr>\n",
       "      <th>39</th>\n",
       "      <td>1593561600</td>\n",
       "      <td>South Sudan</td>\n",
       "      <td>Upper Nile</td>\n",
       "      <td>Tonga</td>\n",
       "      <td>Malakal</td>\n",
       "      <td>9.550000</td>\n",
       "      <td>31.650000</td>\n",
       "      <td>feature2</td>\n",
       "      <td>10.0</td>\n",
       "      <td>10.0</td>\n",
       "    </tr>\n",
       "  </tbody>\n",
       "</table>\n",
       "</div>"
      ],
      "text/plain": [
       "     timestamp      country      admin1       admin2   admin3        lat  \\\n",
       "35  1577836800  South Sudan  Upper Nile        Tonga  Malakal   9.550000   \n",
       "36  1593561600     Ethiopia        Afar  Afar Zone 1    Dubti  11.733333   \n",
       "37  1593561600     Ethiopia        Afar  Afar Zone 3   Gewane  10.159228   \n",
       "38  1593561600     Ethiopia      Tigray     Debubawi  Enderta  13.500000   \n",
       "39  1593561600  South Sudan  Upper Nile        Tonga  Malakal   9.550000   \n",
       "\n",
       "          lng   feature  t_sum  t_mean  \n",
       "35  31.650000  feature2   20.0    20.0  \n",
       "36  41.083333  feature2  300.0   300.0  \n",
       "37  40.661596  feature2   30.0    30.0  \n",
       "38  39.666667  feature2  700.0   700.0  \n",
       "39  31.650000  feature2   10.0    10.0  "
      ]
     },
     "execution_count": 96,
     "metadata": {},
     "output_type": "execute_result"
    }
   ],
   "source": [
    "temporal_df.tail()"
   ]
  },
  {
   "cell_type": "code",
   "execution_count": 97,
   "id": "fallen-evidence",
   "metadata": {},
   "outputs": [],
   "source": [
    "from copy import copy\n",
    "def compute_regional_aggregation(input_df, dest, time_res, model_id, run_id):\n",
    "    df = copy(input_df)\n",
    "    # Ranme columns\n",
    "    df.columns = df.columns.str.replace('t_sum', 't_sum_s_sum').str.replace('t_mean', 't_mean_s_sum')\n",
    "    df['s_count'] = 1\n",
    "    df = df.reset_index()\n",
    "    \n",
    "    ## TODO: extract region columns instead of hard coding since some data may not have admin3\n",
    "    regions_cols = ['country', 'admin1', 'admin2', 'admin3']\n",
    "    \n",
    "    # Region aggregation at the highest admin level\n",
    "    df = df[['feature', 'timestamp', 't_sum_s_sum', 't_mean_s_sum', 's_count'] + regions_cols] \\\n",
    "        .groupby(['feature', 'timestamp'] + regions_cols) \\\n",
    "        .agg(['sum'])\n",
    "    df.columns = df.columns.droplevel(1)\n",
    "    df = df.reset_index()\n",
    "    # persist the result in memory since this df is going to be used multiple times to compute for different regional levels\n",
    "    df = client.persist(df)\n",
    "    \n",
    "    # Compute aggregation and save for all regional levels\n",
    "    for level in range(len(regions_cols)): \n",
    "        save_df = copy(df)\n",
    "        # Merge region columns to single region_id column. eg. ['Ethiopia', 'Afar'] -> ['Ethiopia|Afar']\n",
    "        save_df['region_id'] = join_region_columns(save_df, level)\n",
    "    \n",
    "        # groupby feature and timestamp\n",
    "        save_df = save_df[['feature', 'timestamp', 'region_id', 't_sum_s_sum', 't_mean_s_sum', 's_count']] \\\n",
    "            .groupby(['feature', 'timestamp']).agg(list)\n",
    "        save_df = save_df.reset_index()\n",
    "        save_df = save_df.apply(lambda x: save_regional_aggregation(x, dest, model_id, run_id, time_res, region_level=regions_cols[level]), \n",
    "                      axis=1, meta=(None, 'object'))\n",
    "        save_df.compute()"
   ]
  },
  {
   "cell_type": "code",
   "execution_count": 98,
   "id": "unsigned-candidate",
   "metadata": {},
   "outputs": [],
   "source": [
    "compute_regional_aggregation(temporal_df, dest, time_res, model_id, run_id)"
   ]
  },
  {
   "cell_type": "code",
   "execution_count": null,
   "id": "entitled-safety",
   "metadata": {},
   "outputs": [],
   "source": []
  }
 ],
 "metadata": {
  "kernelspec": {
   "display_name": "Python 3",
   "language": "python",
   "name": "python3"
  },
  "language_info": {
   "codemirror_mode": {
    "name": "ipython",
    "version": 3
   },
   "file_extension": ".py",
   "mimetype": "text/x-python",
   "name": "python",
   "nbconvert_exporter": "python",
   "pygments_lexer": "ipython3",
   "version": "3.8.2"
  }
 },
 "nbformat": 4,
 "nbformat_minor": 5
}
