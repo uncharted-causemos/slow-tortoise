{
 "cells": [
  {
   "cell_type": "code",
   "execution_count": 33,
   "id": "increased-soldier",
   "metadata": {},
   "outputs": [
    {
     "name": "stderr",
     "output_type": "stream",
     "text": [
      "/Users/jryu/.pyenv/versions/3.8.2/lib/python3.8/site-packages/distributed/client.py:1136: VersionMismatchWarning: Mismatched versions found\n",
      "\n",
      "+-------------+-----------+-----------+-----------+\n",
      "| Package     | client    | scheduler | workers   |\n",
      "+-------------+-----------+-----------+-----------+\n",
      "| distributed | 2021.01.1 | 2021.02.0 | 2021.02.0 |\n",
      "| lz4         | 3.1.3     | 3.1.1     | 3.1.1     |\n",
      "| msgpack     | 1.0.2     | 1.0.0     | 1.0.0     |\n",
      "| numpy       | 1.20.1    | 1.19.4    | 1.19.4    |\n",
      "+-------------+-----------+-----------+-----------+\n",
      "Notes: \n",
      "-  msgpack: Variation is ok, as long as everything is above 0.6\n",
      "  warnings.warn(version_module.VersionMismatchWarning(msg[0][\"warning\"]))\n"
     ]
    }
   ],
   "source": [
    "from dask.distributed import Client\n",
    "\n",
    "client = Client('10.65.18.58:8786', asynchronous=True)"
   ]
  },
  {
   "cell_type": "code",
   "execution_count": 16,
   "id": "interpreted-dallas",
   "metadata": {},
   "outputs": [
    {
     "name": "stdout",
     "output_type": "stream",
     "text": [
      "<Client: 'tcp://172.18.0.4:8786' processes=3 threads=12, memory=49.97 GB>\n"
     ]
    },
    {
     "data": {
      "text/html": [
       "<table style=\"border: 2px solid white;\">\n",
       "<tr>\n",
       "<td style=\"vertical-align: top; border: 0px solid white\">\n",
       "<h3 style=\"text-align: left;\">Client</h3>\n",
       "<ul style=\"text-align: left; list-style: none; margin: 0; padding: 0;\">\n",
       "  <li><b>Scheduler: </b>tcp://10.65.18.58:8786</li>\n",
       "  <li><b>Dashboard: </b><a href='http://10.65.18.58:8787/status' target='_blank'>http://10.65.18.58:8787/status</a></li>\n",
       "</ul>\n",
       "</td>\n",
       "<td style=\"vertical-align: top; border: 0px solid white\">\n",
       "<h3 style=\"text-align: left;\">Cluster</h3>\n",
       "<ul style=\"text-align: left; list-style:none; margin: 0; padding: 0;\">\n",
       "  <li><b>Workers: </b>3</li>\n",
       "  <li><b>Cores: </b>12</li>\n",
       "  <li><b>Memory: </b>49.97 GB</li>\n",
       "</ul>\n",
       "</td>\n",
       "</tr>\n",
       "</table>"
      ],
      "text/plain": [
       "<Client: 'tcp://172.18.0.4:8786' processes=3 threads=12, memory=49.97 GB>"
      ]
     },
     "execution_count": 16,
     "metadata": {},
     "output_type": "execute_result"
    }
   ],
   "source": [
    "print(client)\n",
    "client"
   ]
  },
  {
   "cell_type": "code",
   "execution_count": 17,
   "id": "minute-memorabilia",
   "metadata": {},
   "outputs": [],
   "source": [
    "import dask.dataframe as dd\n",
    "import dask.bytes as db\n",
    "import datetime\n",
    "import pandas as pd\n",
    "import math\n",
    "import boto3\n",
    "import json"
   ]
  },
  {
   "cell_type": "code",
   "execution_count": 18,
   "id": "strong-bible",
   "metadata": {},
   "outputs": [],
   "source": [
    "import os\n",
    "import sys\n",
    "module_path = os.path.abspath(os.path.join('../flows'))\n",
    "if module_path not in sys.path:\n",
    "    sys.path.append(module_path)"
   ]
  },
  {
   "cell_type": "code",
   "execution_count": 19,
   "id": "baking-school",
   "metadata": {},
   "outputs": [],
   "source": [
    "import tiles_pb2\n",
    "from common import to_normalized_time, get_storage_options, extract_region_columns, join_region_columns, save_regional_aggregation"
   ]
  },
  {
   "cell_type": "code",
   "execution_count": 20,
   "id": "sexual-oakland",
   "metadata": {},
   "outputs": [
    {
     "data": {
      "text/plain": [
       "{'tcp://10.0.35.27:36223': {'status': 'OK'},\n",
       " 'tcp://10.0.35.28:32956': {'status': 'OK'},\n",
       " 'tcp://10.0.35.5:40228': {'status': 'OK'}}"
      ]
     },
     "execution_count": 20,
     "metadata": {},
     "output_type": "execute_result"
    }
   ],
   "source": [
    "client.upload_file('../flows/tiles_pb2.py')\n",
    "client.upload_file('../flows/common.py')"
   ]
  },
  {
   "cell_type": "code",
   "execution_count": 21,
   "id": "fewer-leadership",
   "metadata": {},
   "outputs": [],
   "source": [
    "# Configs\n",
    "\n",
    "source = {\n",
    "    'endpoint_url': 'http://10.65.18.73:9000',\n",
    "    'region_name':'us-east-1',\n",
    "    'key': 'foobar',\n",
    "    'secret': 'foobarbaz',\n",
    "    'bucket': 'test'\n",
    "}\n",
    "\n",
    "dest = {\n",
    "    'endpoint_url': 'http://10.65.18.73:9000',\n",
    "    'region_name': 'us-east-1',\n",
    "    'key': 'foobar',\n",
    "    'secret': 'foobarbaz',\n",
    "    'bucket': 'experiments'\n",
    "}\n",
    "\n",
    "# This determines the number of bins(subtiles) per tile. Eg. Each tile has 4^6=4096 grid cells (subtiles) when LEVEL_DIFF is 6\n",
    "# Tile (z, x, y) will have a sutbile where its zoom level is z + LEVEL_DIFF\n",
    "# eg. Tile (9, 0, 0) will have (15, 0, 0) as a subtile with LEVEL_DIFF = 6\n",
    "LEVEL_DIFF = 6\n",
    "MIN_SUBTILE_PRECISION = LEVEL_DIFF # since (0,0,0) main tile wil have (LEVEL_DIFF, x, y) subtiles as its grid cells\n",
    "\n",
    "# Note: We need to figure out the spatial resolution of a run output in advance. For some model, 15 precision is way too high. \n",
    "# For example, lpjml model covers the entire world in very coarse resolution and with 15 precision, it takes 1 hour to process and upload\n",
    "# the tiles resulting 397395 tile files. (uploading takes most of the time ) \n",
    "# where it takes only a minitue with 10 precision. And having high precision tiles doesn't make \n",
    "# significant difference visually since underlying data itself is very coarse.\n",
    "MAX_SUBTILE_PRECISION = 14\n",
    "\n",
    "# Maximum zoom level for a main tile\n",
    "MAX_ZOOM = MAX_SUBTILE_PRECISION - LEVEL_DIFF\n",
    "\n",
    "s_bucket = source['bucket']\n",
    "# TODO: provide these as input parameters\n",
    "model_id = '2fe40c11-8862-4ab4-b528-c85dacdc615e'\n",
    "run_id = '04f97328-2c73-48ce-8020-d74632336670'\n",
    "#parquet_path = f's3://{s_bucket}/geo-test-data.parquet'\n",
    "parquet_path = f's3://{s_bucket}/{model_id}/{run_id}/*.parquet'\n",
    "\n"
   ]
  },
  {
   "cell_type": "code",
   "execution_count": 22,
   "id": "abroad-county",
   "metadata": {},
   "outputs": [
    {
     "data": {
      "text/plain": [
       "'s3://test/2fe40c11-8862-4ab4-b528-c85dacdc615e/04f97328-2c73-48ce-8020-d74632336670/*.parquet'"
      ]
     },
     "execution_count": 22,
     "metadata": {},
     "output_type": "execute_result"
    }
   ],
   "source": [
    "parquet_path"
   ]
  },
  {
   "cell_type": "code",
   "execution_count": 23,
   "id": "returning-savage",
   "metadata": {},
   "outputs": [
    {
     "data": {
      "text/plain": [
       "timestamp    datetime64[ns]\n",
       "lat                 float64\n",
       "lng                 float64\n",
       "feature              object\n",
       "value               float64\n",
       "country              object\n",
       "admin1               object\n",
       "admin2               object\n",
       "admin3               object\n",
       "dtype: object"
      ]
     },
     "execution_count": 23,
     "metadata": {},
     "output_type": "execute_result"
    }
   ],
   "source": [
    "# Read parquet files in as set of dataframes\n",
    "df = dd.read_parquet(parquet_path,\n",
    "    storage_options={\n",
    "        'anon': False,\n",
    "        'use_ssl': False,\n",
    "        'key': source['key'],\n",
    "        'secret': source['secret'],\n",
    "        'client_kwargs':{\n",
    "            'region_name': source['region_name'],\n",
    "            'endpoint_url': source['endpoint_url']\n",
    "        }\n",
    "    }).repartition(npartitions = 100)\n",
    "df.dtypes"
   ]
  },
  {
   "cell_type": "code",
   "execution_count": 24,
   "id": "preceding-acting",
   "metadata": {},
   "outputs": [],
   "source": [
    "# Temporal aggregation (compute for both sum and mean)\n",
    "time_res = 'month'\n",
    "\n",
    "columns = df.columns.tolist()\n",
    "columns.remove('value')\n",
    "\n",
    "t = dd.to_datetime(df['timestamp'], unit='s').apply(lambda x: to_normalized_time(x, time_res), meta=(None, 'int'))\n",
    "temporal_df = df.assign(timestamp=t) \\\n",
    "                .groupby(columns)['value'].agg(['sum', 'mean'])\n",
    "# Rename agg column names\n",
    "temporal_df.columns = temporal_df.columns.str.replace('sum', 't_sum').str.replace('mean', 't_mean')\n",
    "temporal_df = temporal_df.reset_index()"
   ]
  },
  {
   "cell_type": "code",
   "execution_count": 25,
   "id": "crude-treatment",
   "metadata": {},
   "outputs": [
    {
     "data": {
      "text/html": [
       "<div>\n",
       "<style scoped>\n",
       "    .dataframe tbody tr th:only-of-type {\n",
       "        vertical-align: middle;\n",
       "    }\n",
       "\n",
       "    .dataframe tbody tr th {\n",
       "        vertical-align: top;\n",
       "    }\n",
       "\n",
       "    .dataframe thead th {\n",
       "        text-align: right;\n",
       "    }\n",
       "</style>\n",
       "<table border=\"1\" class=\"dataframe\">\n",
       "  <thead>\n",
       "    <tr style=\"text-align: right;\">\n",
       "      <th></th>\n",
       "      <th>timestamp</th>\n",
       "      <th>lat</th>\n",
       "      <th>lng</th>\n",
       "      <th>feature</th>\n",
       "      <th>country</th>\n",
       "      <th>admin1</th>\n",
       "      <th>admin2</th>\n",
       "      <th>admin3</th>\n",
       "      <th>t_sum</th>\n",
       "      <th>t_mean</th>\n",
       "    </tr>\n",
       "  </thead>\n",
       "  <tbody>\n",
       "    <tr>\n",
       "      <th>77949</th>\n",
       "      <td>1583020800</td>\n",
       "      <td>9.375</td>\n",
       "      <td>38.542</td>\n",
       "      <td>production</td>\n",
       "      <td>Ethiopia</td>\n",
       "      <td>Oromia</td>\n",
       "      <td>Mirab Shewa</td>\n",
       "      <td>Adda Berga</td>\n",
       "      <td>999.0</td>\n",
       "      <td>999.0</td>\n",
       "    </tr>\n",
       "    <tr>\n",
       "      <th>77950</th>\n",
       "      <td>1583020800</td>\n",
       "      <td>9.375</td>\n",
       "      <td>38.625</td>\n",
       "      <td>production</td>\n",
       "      <td>Ethiopia</td>\n",
       "      <td>Oromia</td>\n",
       "      <td>North Shewa</td>\n",
       "      <td>Mulo</td>\n",
       "      <td>89.0</td>\n",
       "      <td>89.0</td>\n",
       "    </tr>\n",
       "    <tr>\n",
       "      <th>77951</th>\n",
       "      <td>1583020800</td>\n",
       "      <td>9.375</td>\n",
       "      <td>38.708</td>\n",
       "      <td>production</td>\n",
       "      <td>Ethiopia</td>\n",
       "      <td>Oromia</td>\n",
       "      <td>North Shewa</td>\n",
       "      <td>Sululta</td>\n",
       "      <td>115.0</td>\n",
       "      <td>115.0</td>\n",
       "    </tr>\n",
       "    <tr>\n",
       "      <th>77952</th>\n",
       "      <td>1583020800</td>\n",
       "      <td>9.458</td>\n",
       "      <td>38.542</td>\n",
       "      <td>production</td>\n",
       "      <td>Ethiopia</td>\n",
       "      <td>Oromia</td>\n",
       "      <td>Mirab Shewa</td>\n",
       "      <td>Adda Berga</td>\n",
       "      <td>313.0</td>\n",
       "      <td>313.0</td>\n",
       "    </tr>\n",
       "    <tr>\n",
       "      <th>77953</th>\n",
       "      <td>1583020800</td>\n",
       "      <td>9.458</td>\n",
       "      <td>38.625</td>\n",
       "      <td>production</td>\n",
       "      <td>Ethiopia</td>\n",
       "      <td>Oromia</td>\n",
       "      <td>North Shewa</td>\n",
       "      <td>Mulo</td>\n",
       "      <td>32.0</td>\n",
       "      <td>32.0</td>\n",
       "    </tr>\n",
       "  </tbody>\n",
       "</table>\n",
       "</div>"
      ],
      "text/plain": [
       "        timestamp    lat     lng     feature   country  admin1       admin2  \\\n",
       "77949  1583020800  9.375  38.542  production  Ethiopia  Oromia  Mirab Shewa   \n",
       "77950  1583020800  9.375  38.625  production  Ethiopia  Oromia  North Shewa   \n",
       "77951  1583020800  9.375  38.708  production  Ethiopia  Oromia  North Shewa   \n",
       "77952  1583020800  9.458  38.542  production  Ethiopia  Oromia  Mirab Shewa   \n",
       "77953  1583020800  9.458  38.625  production  Ethiopia  Oromia  North Shewa   \n",
       "\n",
       "           admin3  t_sum  t_mean  \n",
       "77949  Adda Berga  999.0   999.0  \n",
       "77950        Mulo   89.0    89.0  \n",
       "77951     Sululta  115.0   115.0  \n",
       "77952  Adda Berga  313.0   313.0  \n",
       "77953        Mulo   32.0    32.0  "
      ]
     },
     "execution_count": 25,
     "metadata": {},
     "output_type": "execute_result"
    }
   ],
   "source": [
    "temporal_df.tail()"
   ]
  },
  {
   "cell_type": "code",
   "execution_count": 30,
   "id": "weird-boutique",
   "metadata": {},
   "outputs": [],
   "source": [
    "# save timeseries as a json file\n",
    "def save_timeseries(df, dest, model_id, run_id, time_res, timeseries_agg_columns):\n",
    "    for col in timeseries_agg_columns:\n",
    "        timeseries_to_json(df[['timestamp', col]], dest, model_id, run_id, df['feature'].values[0], time_res, df['region_id'].values[0], col)\n",
    "\n",
    "# write timeseries to json\n",
    "def timeseries_to_json(df, dest, model_id, run_id, feature, time_res, region_id, column):\n",
    "    bucket = dest['bucket']\n",
    "    col_map = {}\n",
    "    col_map[column] = 'value'\n",
    "    df.rename(columns=col_map, inplace=False).to_json(f's3://{bucket}/{model_id}/{run_id}/{time_res}/{feature}/regional/country/timeseries/{region_id}/{column}.json',\n",
    "        orient='records',\n",
    "        storage_options=get_storage_options(dest))"
   ]
  },
  {
   "cell_type": "code",
   "execution_count": 32,
   "id": "frozen-electricity",
   "metadata": {},
   "outputs": [
    {
     "name": "stdout",
     "output_type": "stream",
     "text": [
      "CPU times: user 223 ms, sys: 10.3 ms, total: 233 ms\n",
      "Wall time: 24.7 s\n"
     ]
    },
    {
     "data": {
      "text/plain": [
       "Series([], dtype: object)"
      ]
     },
     "execution_count": 32,
     "metadata": {},
     "output_type": "execute_result"
    }
   ],
   "source": [
    "%%time\n",
    "regions_cols = extract_region_columns(df)\n",
    "level = 3\n",
    "# do for all level\n",
    "timeseries_df = temporal_df.copy()\n",
    "timeseries_df['region_id'] = join_region_columns(timeseries_df, level)\n",
    "timeseries_aggs = ['min', 'max', 'sum', 'mean']\n",
    "timeseries_lookup = {\n",
    "    ('t_sum', 'min'): 's_min_t_sum', ('t_sum', 'max'): 's_max_t_sum', ('t_sum', 'sum'): 's_sum_t_sum', ('t_sum', 'mean'): 's_mean_t_sum',\n",
    "    ('t_mean', 'min'): 's_min_t_mean', ('t_mean', 'max'): 's_max_t_mean', ('t_mean', 'sum'): 's_sum_t_mean', ('t_mean', 'mean'): 's_mean_t_mean'\n",
    "}\n",
    "timeseries_agg_columns = ['s_min_t_sum', 's_max_t_sum', 's_sum_t_sum', 's_mean_t_sum', 's_min_t_mean', 's_max_t_mean', 's_sum_t_mean', 's_mean_t_mean']\n",
    "\n",
    "timeseries_df = timeseries_df.groupby(['feature', 'region_id', 'timestamp']).agg({ 't_sum' : timeseries_aggs, 't_mean' : timeseries_aggs })\n",
    "timeseries_df.columns = timeseries_df.columns.to_flat_index()\n",
    "timeseries_df = timeseries_df.rename(columns=timeseries_lookup).reset_index()\n",
    "timeseries_df = timeseries_df.repartition(npartitions = 12).groupby(['feature', 'region_id']).apply(\n",
    "    lambda x: save_timeseries(x, dest, model_id, run_id, time_res, timeseries_agg_columns),\n",
    "    meta=(None, 'object'))\n",
    "timeseries_df.compute()"
   ]
  },
  {
   "cell_type": "code",
   "execution_count": null,
   "id": "diverse-protocol",
   "metadata": {},
   "outputs": [],
   "source": []
  }
 ],
 "metadata": {
  "kernelspec": {
   "display_name": "Python 3",
   "language": "python",
   "name": "python3"
  },
  "language_info": {
   "codemirror_mode": {
    "name": "ipython",
    "version": 3
   },
   "file_extension": ".py",
   "mimetype": "text/x-python",
   "name": "python",
   "nbconvert_exporter": "python",
   "pygments_lexer": "ipython3",
   "version": "3.8.2"
  }
 },
 "nbformat": 4,
 "nbformat_minor": 5
}
